{
 "cells": [
  {
   "cell_type": "markdown",
   "id": "972a7e0d",
   "metadata": {},
   "source": [
    "# Import Section"
   ]
  },
  {
   "cell_type": "code",
   "execution_count": 1,
   "id": "353e5631",
   "metadata": {},
   "outputs": [],
   "source": [
    "import numpy as np\n",
    "import pandas as pd\n",
    "import matplotlib.pyplot as plt\n",
    "import math\n",
    "import seaborn as sns"
   ]
  },
  {
   "cell_type": "markdown",
   "id": "a7dc7637",
   "metadata": {},
   "source": [
    "## Reading Data Set"
   ]
  },
  {
   "cell_type": "code",
   "execution_count": 2,
   "id": "c1189097",
   "metadata": {},
   "outputs": [],
   "source": [
    "df = pd.read_csv(\"iris.data\",names=[\"sepal_length(cm)\", \"sepal_width(cm)\", \"petal_length(cm)\", \"petal_width(cm)\",'class'])"
   ]
  },
  {
   "cell_type": "code",
   "execution_count": 3,
   "id": "68cf5ed9",
   "metadata": {},
   "outputs": [],
   "source": [
    "arr = df[['sepal_length(cm)','sepal_width(cm)','petal_length(cm)','petal_width(cm)']].values\n",
    "arr = arr.tolist()"
   ]
  },
  {
   "cell_type": "code",
   "execution_count": 4,
   "id": "3cb9e865",
   "metadata": {},
   "outputs": [
    {
     "data": {
      "text/html": [
       "<div>\n",
       "<style scoped>\n",
       "    .dataframe tbody tr th:only-of-type {\n",
       "        vertical-align: middle;\n",
       "    }\n",
       "\n",
       "    .dataframe tbody tr th {\n",
       "        vertical-align: top;\n",
       "    }\n",
       "\n",
       "    .dataframe thead th {\n",
       "        text-align: right;\n",
       "    }\n",
       "</style>\n",
       "<table border=\"1\" class=\"dataframe\">\n",
       "  <thead>\n",
       "    <tr style=\"text-align: right;\">\n",
       "      <th></th>\n",
       "      <th>sepal_length(cm)</th>\n",
       "      <th>sepal_width(cm)</th>\n",
       "      <th>petal_length(cm)</th>\n",
       "      <th>petal_width(cm)</th>\n",
       "      <th>class</th>\n",
       "    </tr>\n",
       "  </thead>\n",
       "  <tbody>\n",
       "    <tr>\n",
       "      <th>0</th>\n",
       "      <td>5.1</td>\n",
       "      <td>3.5</td>\n",
       "      <td>1.4</td>\n",
       "      <td>0.2</td>\n",
       "      <td>Iris-setosa</td>\n",
       "    </tr>\n",
       "    <tr>\n",
       "      <th>1</th>\n",
       "      <td>4.9</td>\n",
       "      <td>3.0</td>\n",
       "      <td>1.4</td>\n",
       "      <td>0.2</td>\n",
       "      <td>Iris-setosa</td>\n",
       "    </tr>\n",
       "    <tr>\n",
       "      <th>2</th>\n",
       "      <td>4.7</td>\n",
       "      <td>3.2</td>\n",
       "      <td>1.3</td>\n",
       "      <td>0.2</td>\n",
       "      <td>Iris-setosa</td>\n",
       "    </tr>\n",
       "    <tr>\n",
       "      <th>3</th>\n",
       "      <td>4.6</td>\n",
       "      <td>3.1</td>\n",
       "      <td>1.5</td>\n",
       "      <td>0.2</td>\n",
       "      <td>Iris-setosa</td>\n",
       "    </tr>\n",
       "    <tr>\n",
       "      <th>4</th>\n",
       "      <td>5.0</td>\n",
       "      <td>3.6</td>\n",
       "      <td>1.4</td>\n",
       "      <td>0.2</td>\n",
       "      <td>Iris-setosa</td>\n",
       "    </tr>\n",
       "    <tr>\n",
       "      <th>...</th>\n",
       "      <td>...</td>\n",
       "      <td>...</td>\n",
       "      <td>...</td>\n",
       "      <td>...</td>\n",
       "      <td>...</td>\n",
       "    </tr>\n",
       "    <tr>\n",
       "      <th>145</th>\n",
       "      <td>6.7</td>\n",
       "      <td>3.0</td>\n",
       "      <td>5.2</td>\n",
       "      <td>2.3</td>\n",
       "      <td>Iris-virginica</td>\n",
       "    </tr>\n",
       "    <tr>\n",
       "      <th>146</th>\n",
       "      <td>6.3</td>\n",
       "      <td>2.5</td>\n",
       "      <td>5.0</td>\n",
       "      <td>1.9</td>\n",
       "      <td>Iris-virginica</td>\n",
       "    </tr>\n",
       "    <tr>\n",
       "      <th>147</th>\n",
       "      <td>6.5</td>\n",
       "      <td>3.0</td>\n",
       "      <td>5.2</td>\n",
       "      <td>2.0</td>\n",
       "      <td>Iris-virginica</td>\n",
       "    </tr>\n",
       "    <tr>\n",
       "      <th>148</th>\n",
       "      <td>6.2</td>\n",
       "      <td>3.4</td>\n",
       "      <td>5.4</td>\n",
       "      <td>2.3</td>\n",
       "      <td>Iris-virginica</td>\n",
       "    </tr>\n",
       "    <tr>\n",
       "      <th>149</th>\n",
       "      <td>5.9</td>\n",
       "      <td>3.0</td>\n",
       "      <td>5.1</td>\n",
       "      <td>1.8</td>\n",
       "      <td>Iris-virginica</td>\n",
       "    </tr>\n",
       "  </tbody>\n",
       "</table>\n",
       "<p>150 rows × 5 columns</p>\n",
       "</div>"
      ],
      "text/plain": [
       "     sepal_length(cm)  sepal_width(cm)  petal_length(cm)  petal_width(cm)  \\\n",
       "0                 5.1              3.5               1.4              0.2   \n",
       "1                 4.9              3.0               1.4              0.2   \n",
       "2                 4.7              3.2               1.3              0.2   \n",
       "3                 4.6              3.1               1.5              0.2   \n",
       "4                 5.0              3.6               1.4              0.2   \n",
       "..                ...              ...               ...              ...   \n",
       "145               6.7              3.0               5.2              2.3   \n",
       "146               6.3              2.5               5.0              1.9   \n",
       "147               6.5              3.0               5.2              2.0   \n",
       "148               6.2              3.4               5.4              2.3   \n",
       "149               5.9              3.0               5.1              1.8   \n",
       "\n",
       "              class  \n",
       "0       Iris-setosa  \n",
       "1       Iris-setosa  \n",
       "2       Iris-setosa  \n",
       "3       Iris-setosa  \n",
       "4       Iris-setosa  \n",
       "..              ...  \n",
       "145  Iris-virginica  \n",
       "146  Iris-virginica  \n",
       "147  Iris-virginica  \n",
       "148  Iris-virginica  \n",
       "149  Iris-virginica  \n",
       "\n",
       "[150 rows x 5 columns]"
      ]
     },
     "execution_count": 4,
     "metadata": {},
     "output_type": "execute_result"
    }
   ],
   "source": [
    "iris_setosa = arr[0:50]\n",
    "\n",
    "iris_versicolor = arr[50:100]\n",
    "\n",
    "iris_virginica = arr[100:150]\n",
    "\n",
    "# iris_setosa = iris_setosa.tolist()\n",
    "# iris_virginica = iris_virginica.tolist()\n",
    "# iris_versicolor = iris_versicolor.tolist()\n",
    "df"
   ]
  },
  {
   "cell_type": "markdown",
   "id": "0146acfe",
   "metadata": {},
   "source": [
    "# Splitting Data into Training and Testing Sets"
   ]
  },
  {
   "cell_type": "code",
   "execution_count": 5,
   "id": "dfe8639b",
   "metadata": {},
   "outputs": [],
   "source": [
    "setosa_train, setosa_test = iris_setosa[0:30],iris_setosa[30:50]\n",
    "versicolor_train, versicolor_test = iris_versicolor[0:30], iris_versicolor[30:50]\n",
    "virginica_train, virginica_test = iris_virginica[0:30], iris_virginica[30:50]\n"
   ]
  },
  {
   "cell_type": "markdown",
   "id": "b78f9809",
   "metadata": {},
   "source": [
    "# Mean and Covariance Calculation"
   ]
  },
  {
   "cell_type": "code",
   "execution_count": 6,
   "id": "fd2c2687",
   "metadata": {},
   "outputs": [],
   "source": [
    "mean_setosa = np.mean(setosa_train,axis = 0)\n",
    "mean_versi = np.mean(versicolor_train,axis = 0)\n",
    "mean_virginica = np.mean(virginica_train,axis = 0)\n",
    "# print(mean_setosa)\n",
    "# print(mean_versi)\n",
    "# print(mean_virginica)\n",
    "cov_setosa = np.cov(np.transpose(setosa_train))\n",
    "cov_versi = np.cov(np.transpose(versicolor_train))\n",
    "cov_virginica = np.cov(np.transpose(virginica_train))\n",
    "# print(cov_setosa)\n",
    "# print(cov_versi)\n",
    "# print(cov_virginica)"
   ]
  },
  {
   "cell_type": "markdown",
   "id": "6976a815",
   "metadata": {},
   "source": [
    "# Mean Calculation"
   ]
  },
  {
   "cell_type": "code",
   "execution_count": 7,
   "id": "67cb756a",
   "metadata": {},
   "outputs": [
    {
     "name": "stdout",
     "output_type": "stream",
     "text": [
      "[29.216666666666676, 15.270000000000005, 18.793333333333347, 5.993333333333337]\n"
     ]
    }
   ],
   "source": [
    "allData = iris_setosa + iris_versicolor + iris_virginica;\n",
    "a, b, c, d = 0, 0, 0, 0\n",
    "mean = []\n",
    "for i in allData:\n",
    "    a += i[0]\n",
    "    b += i[1]\n",
    "    c += i[2]\n",
    "    d += i[3]\n",
    "mean.append(a/30)\n",
    "mean.append(b/30)\n",
    "mean.append(c/30)\n",
    "mean.append(d/30)\n",
    "print(mean)"
   ]
  },
  {
   "cell_type": "markdown",
   "id": "db4288e8",
   "metadata": {},
   "source": [
    "# Functions for Distance Calculation"
   ]
  },
  {
   "cell_type": "code",
   "execution_count": 8,
   "id": "e4a8d66f",
   "metadata": {},
   "outputs": [],
   "source": [
    "# Euclidean Distance\n",
    "def Euclidean(p,q):\n",
    "    d = 0\n",
    "    for i in range(4):\n",
    "        d += (q[i] - p[i])**2\n",
    "    d = math.sqrt(d)\n",
    "    return d\n"
   ]
  },
  {
   "cell_type": "code",
   "execution_count": 9,
   "id": "f06703ee",
   "metadata": {},
   "outputs": [],
   "source": [
    "# City Block Distance\n",
    "def CityBlock(p,q):\n",
    "    d = 0\n",
    "    for i in range(4):\n",
    "        d += abs(q[i] - p[i])\n",
    "    return d\n"
   ]
  },
  {
   "cell_type": "code",
   "execution_count": 10,
   "id": "6917ca08",
   "metadata": {},
   "outputs": [],
   "source": [
    "# Chess Board Distance\n",
    "def ChessBoard(p,q):\n",
    "    d = 0\n",
    "    for i in range(4):\n",
    "        temp = abs(q[i] - p[i])\n",
    "        if(temp > d):\n",
    "            d = temp\n",
    "    return d"
   ]
  },
  {
   "cell_type": "code",
   "execution_count": 11,
   "id": "224e2925",
   "metadata": {},
   "outputs": [],
   "source": [
    "# Mahalanobis Distance\n",
    "def Mahalanobis(p,q,cov):\n",
    "    d = np.subtract(p,q)\n",
    "    d =round(np.dot((np.dot(d,np.linalg.inv(cov))),np.transpose(d)))\n",
    "    return d\n"
   ]
  },
  {
   "cell_type": "code",
   "execution_count": 12,
   "id": "fc27b86e",
   "metadata": {},
   "outputs": [],
   "source": [
    "# Correlation Distance\n",
    "def Correlation(p,q):\n",
    "    s1 = 0\n",
    "    normA = 0\n",
    "    normB = 0\n",
    "    for i in range(4):\n",
    "        s1 += ((p[i]-mean[i]))*((q[i]-mean[i]))\n",
    "    for j in range(4):\n",
    "        normA += ((p[i] - mean[i])**2)\n",
    "        normB += ((q[i] - mean[i])**2)\n",
    "    norm = normA * normB\n",
    "    norm = math.sqrt(norm)\n",
    "    d = (1 - (s1 / norm))\n",
    "    return d"
   ]
  },
  {
   "cell_type": "code",
   "execution_count": 13,
   "id": "6ff0083d",
   "metadata": {},
   "outputs": [],
   "source": [
    "# Cosine Distance\n",
    "def Cosine(p,q):\n",
    "    normA = 0\n",
    "    normB = 0\n",
    "    for i in range(4):\n",
    "        normA += p[i]**2\n",
    "        normB += q[i]**2\n",
    "    normA = math.sqrt(normA)\n",
    "    normB = math.sqrt(normB)\n",
    "    s = 0\n",
    "    for i in range(4):\n",
    "        s += p[i]*q[i]\n",
    "    d = 1 - (s / (normA * normB))\n",
    "    return d"
   ]
  },
  {
   "cell_type": "code",
   "execution_count": 14,
   "id": "178398a2",
   "metadata": {},
   "outputs": [],
   "source": [
    "# Bray-Curtis Distance\n",
    "def BrayCurtis(p,q):\n",
    "    s1 = 0\n",
    "    s2 = 0\n",
    "    for i in range(4):\n",
    "        s1 += np.abs(p[i] - q[i])\n",
    "        s2 += np.abs(p[i] + q[i])\n",
    "    d = s1 / s2\n",
    "    return d\n"
   ]
  },
  {
   "cell_type": "code",
   "execution_count": 15,
   "id": "88636dbe",
   "metadata": {},
   "outputs": [],
   "source": [
    "# Canberra Distance\n",
    "def Canberra(p,q):\n",
    "    d = 0\n",
    "    s1 = 0\n",
    "    s2 = 0\n",
    "    for i in range(4):\n",
    "        s1 = np.abs(p[i] - q[i])\n",
    "        s2 = np.abs(p[i] + q[i])\n",
    "        d += (s1 / s2)\n",
    "    return d"
   ]
  },
  {
   "cell_type": "code",
   "execution_count": 16,
   "id": "3e60b983",
   "metadata": {},
   "outputs": [],
   "source": [
    "test_features = setosa_test + versicolor_test + virginica_test\n",
    "train_features = setosa_train + versicolor_train + virginica_train\n",
    "label = []\n",
    "for i in range(len(setosa_test)):\n",
    "    label.append(\"Iris-Setosa\")\n",
    "for i in range(len(versicolor_test)):\n",
    "    label.append(\"Iris-Versicolor\")\n",
    "for i in range(len(virginica_test)):\n",
    "    label.append(\"Iris-Virginica\")\n",
    "# print(test_features)"
   ]
  },
  {
   "cell_type": "code",
   "execution_count": 17,
   "id": "8e0f7ac7",
   "metadata": {},
   "outputs": [],
   "source": [
    "misErrRt = []\n",
    "meanError = []\n",
    "meanSqrErr = []\n",
    "meanAbsErr = []"
   ]
  },
  {
   "cell_type": "markdown",
   "id": "07062a40",
   "metadata": {},
   "source": [
    "# Distance Calculation"
   ]
  },
  {
   "cell_type": "code",
   "execution_count": 18,
   "id": "f51aa8d0",
   "metadata": {},
   "outputs": [],
   "source": [
    "# Using Euclidean Distance\n",
    "result = []\n",
    "for i in test_features:\n",
    "    setosa_dis = Euclidean(i, mean_setosa)\n",
    "    virgi_dis = Euclidean(i, mean_virginica)\n",
    "    versi_dis = Euclidean(i, mean_versi)\n",
    "    if(setosa_dis < virgi_dis and setosa_dis < versi_dis):\n",
    "        minDis = setosa_dis\n",
    "        result.append(\"Iris-Setosa\")\n",
    "    elif(virgi_dis < setosa_dis and virgi_dis < versi_dis):\n",
    "        minDis = virgi_dis\n",
    "        result.append(\"Iris-Virginica\")\n",
    "    elif(versi_dis < setosa_dis and versi_dis < virgi_dis):\n",
    "        minDis = versi_dis\n",
    "        result.append(\"Iris-Versicolor\")\n",
    "\n",
    "error = 0\n",
    "errDistance = 0\n",
    "errDisSqr = 0\n",
    "errAbsolute = 0\n",
    "# print(result)\n",
    "for i in range(60):\n",
    "    if(label[i] != result[i]):\n",
    "        error += 1\n",
    "        errDistance += minDis\n",
    "        errDisSqr += minDis ** 2\n",
    "        errAbsolute += abs(minDis)\n",
    "\n",
    "misErrRt.append(error / 60)\n",
    "meanError.append(float(errDistance) / float(error))\n",
    "meanSqrErr.append(float(errDisSqr) / float(error))\n",
    "meanAbsErr.append(float(errAbsolute) / float(error))\n"
   ]
  },
  {
   "cell_type": "code",
   "execution_count": 19,
   "id": "e17a2c05",
   "metadata": {},
   "outputs": [],
   "source": [
    "# Using CityBloack Distance\n",
    "result = []\n",
    "for i in test_features:\n",
    "    setosa_dis = CityBlock(i, mean_setosa)\n",
    "    virgi_dis = CityBlock(i, mean_virginica)\n",
    "    versi_dis = CityBlock(i, mean_versi)\n",
    "    if(setosa_dis < virgi_dis and setosa_dis < versi_dis):\n",
    "        minDis = setosa_dis\n",
    "        result.append(\"Iris-Setosa\")\n",
    "    elif(virgi_dis < setosa_dis and virgi_dis < versi_dis):\n",
    "        minDis = virgi_dis\n",
    "        result.append(\"Iris-Virginica\")\n",
    "    elif(versi_dis < setosa_dis and versi_dis < virgi_dis):\n",
    "        minDis = versi_dis\n",
    "        result.append(\"Iris-Versicolor\")\n",
    "\n",
    "error = 0\n",
    "errDistance = 0\n",
    "errDisSqr = 0\n",
    "errAbsolute = 0\n",
    "\n",
    "for i in range(60):\n",
    "    if(label[i] != result[i]):\n",
    "        error += 1\n",
    "        errDistance += minDis\n",
    "        errDisSqr += minDis ** 2\n",
    "        errAbsolute += abs(minDis)\n",
    "\n",
    "misErrRt.append(error / 60)\n",
    "meanError.append(float(errDistance) / float(error))\n",
    "meanSqrErr.append(float(errDisSqr) / float(error))\n",
    "meanAbsErr.append(float(errAbsolute) / float(error))"
   ]
  },
  {
   "cell_type": "code",
   "execution_count": 20,
   "id": "2066c09f",
   "metadata": {},
   "outputs": [],
   "source": [
    "# Using Chess Board Distance\n",
    "result = []\n",
    "for i in test_features:\n",
    "    setosa_dis = ChessBoard(i, mean_setosa)\n",
    "    virgi_dis = ChessBoard(i, mean_virginica)\n",
    "    versi_dis = ChessBoard(i, mean_versi)\n",
    "    if(setosa_dis < virgi_dis and setosa_dis < versi_dis):\n",
    "        minDis = setosa_dis\n",
    "        result.append(\"Iris-Setosa\")\n",
    "    elif(virgi_dis < setosa_dis and virgi_dis < versi_dis):\n",
    "        minDis = virgi_dis\n",
    "        result.append(\"Iris-Virginica\")\n",
    "    elif(versi_dis < setosa_dis and versi_dis < virgi_dis):\n",
    "        minDis = versi_dis\n",
    "        result.append(\"Iris-Versicolor\")\n",
    "\n",
    "error = 0\n",
    "errDistance = 0\n",
    "errDisSqr = 0\n",
    "errAbsolute = 0\n",
    "\n",
    "for i in range(60):\n",
    "    if(label[i] != result[i]):\n",
    "        error += 1\n",
    "        errDistance += minDis\n",
    "        errDisSqr += minDis ** 2\n",
    "        errAbsolute += abs(minDis)\n",
    "\n",
    "misErrRt.append(error / 60)\n",
    "meanError.append(float(errDistance) / float(error))\n",
    "meanSqrErr.append(float(errDisSqr) / float(error))\n",
    "meanAbsErr.append(float(errAbsolute) / float(error))"
   ]
  },
  {
   "cell_type": "code",
   "execution_count": 21,
   "id": "b386a1d7",
   "metadata": {},
   "outputs": [],
   "source": [
    "# Using Mahalanobis Distance\n",
    "result = []\n",
    "for i in test_features:\n",
    "    setosa_dis = Mahalanobis(i, mean_setosa, cov_setosa)\n",
    "    virgi_dis = Mahalanobis(i, mean_virginica, cov_virginica)\n",
    "    versi_dis = Mahalanobis(i, mean_versi, cov_versi)\n",
    "    if(setosa_dis < virgi_dis and setosa_dis < versi_dis):\n",
    "        minDis = setosa_dis\n",
    "        result.append(\"Iris-Setosa\")\n",
    "    elif(virgi_dis < setosa_dis and virgi_dis < versi_dis):\n",
    "        minDis = virgi_dis\n",
    "        result.append(\"Iris-Virginica\")\n",
    "    elif(versi_dis < setosa_dis and versi_dis < virgi_dis):\n",
    "        minDis = versi_dis\n",
    "        result.append(\"Iris-Versicolor\")\n",
    "\n",
    "error = 0\n",
    "errDistance = 0\n",
    "errDisSqr = 0\n",
    "errAbsolute = 0\n",
    "\n",
    "for i in range(60):\n",
    "    if(label[i] != result[i]):\n",
    "        error += 1\n",
    "        errDistance += minDis\n",
    "        errDisSqr += minDis ** 2\n",
    "        errAbsolute += abs(minDis)\n",
    "\n",
    "misErrRt.append(error / 60)\n",
    "meanError.append(float(errDistance) / float(error))\n",
    "meanSqrErr.append(float(errDisSqr) / float(error))\n",
    "meanAbsErr.append(float(errAbsolute) / float(error))"
   ]
  },
  {
   "cell_type": "code",
   "execution_count": 22,
   "id": "9a3a6594",
   "metadata": {},
   "outputs": [],
   "source": [
    "# Using Correlation Distance\n",
    "result = []\n",
    "for i in test_features:\n",
    "    setosa_dis = Correlation(i, mean_setosa)\n",
    "    virgi_dis = Correlation(i, mean_virginica)\n",
    "    versi_dis = Correlation(i, mean_versi)\n",
    "    #print(setosa_dis, virgi_dis, versi_dis)\n",
    "    if(setosa_dis < virgi_dis and setosa_dis < versi_dis):\n",
    "        minDis = setosa_dis\n",
    "        result.append(\"Iris-Setosa\")\n",
    "    elif(virgi_dis < setosa_dis and virgi_dis < versi_dis):\n",
    "        minDis = virgi_dis\n",
    "        result.append(\"Iris-Virginica\")\n",
    "    elif(versi_dis < setosa_dis and versi_dis < virgi_dis):\n",
    "        minDis = versi_dis\n",
    "        result.append(\"Iris-Versicolor\")\n",
    "\n",
    "error = 0\n",
    "errDistance = 0\n",
    "errDisSqr = 0\n",
    "errAbsolute = 0\n",
    "\n",
    "for i in range(60):\n",
    "    if(label[i] != result[i]):\n",
    "        error += 1\n",
    "        errDistance += minDis\n",
    "        errDisSqr += minDis ** 2\n",
    "        errAbsolute += abs(minDis)\n",
    "\n",
    "misErrRt.append(error / 60)\n",
    "meanError.append(float(errDistance) / float(error))\n",
    "meanSqrErr.append(float(errDisSqr) / float(error))\n",
    "meanAbsErr.append(float(errAbsolute) / float(error))"
   ]
  },
  {
   "cell_type": "code",
   "execution_count": 23,
   "id": "5fcad508",
   "metadata": {},
   "outputs": [],
   "source": [
    "# Using Cosine Distance\n",
    "result = []\n",
    "for i in test_features:\n",
    "    setosa_dis = Cosine(i, mean_setosa)\n",
    "    virgi_dis = Cosine(i, mean_virginica)\n",
    "    versi_dis = Cosine(i, mean_versi)\n",
    "    if(setosa_dis < virgi_dis and setosa_dis < versi_dis):\n",
    "        minDis = setosa_dis\n",
    "        result.append(\"Iris-Setosa\")\n",
    "    elif(virgi_dis < setosa_dis and virgi_dis < versi_dis):\n",
    "        minDis = virgi_dis\n",
    "        result.append(\"Iris-Virginica\")\n",
    "    elif(versi_dis < setosa_dis and versi_dis < virgi_dis):\n",
    "        minDis = versi_dis\n",
    "        result.append(\"Iris-Versicolor\")\n",
    "\n",
    "error = 0\n",
    "errDistance = 0\n",
    "errDisSqr = 0\n",
    "errAbsolute = 0\n",
    "\n",
    "for i in range(60):\n",
    "    if(label[i] != result[i]):\n",
    "        error += 1\n",
    "        errDistance += minDis\n",
    "        errDisSqr += minDis ** 2\n",
    "        errAbsolute += abs(minDis)\n",
    "\n",
    "misErrRt.append(error / 60)\n",
    "meanError.append(float(errDistance) / float(error))\n",
    "meanSqrErr.append(float(errDisSqr) / float(error))\n",
    "meanAbsErr.append(float(errAbsolute) / float(error))"
   ]
  },
  {
   "cell_type": "code",
   "execution_count": 24,
   "id": "bd6e269b",
   "metadata": {},
   "outputs": [],
   "source": [
    "# Using Bray-Curtis Distance\n",
    "result = []\n",
    "for i in test_features:\n",
    "    setosa_dis = BrayCurtis(i, mean_setosa)\n",
    "    virgi_dis = BrayCurtis(i, mean_virginica)\n",
    "    versi_dis = BrayCurtis(i, mean_versi)\n",
    "    if(setosa_dis < virgi_dis and setosa_dis < versi_dis):\n",
    "        minDis = setosa_dis\n",
    "        result.append(\"Iris-Setosa\")\n",
    "    elif(virgi_dis < setosa_dis and virgi_dis < versi_dis):\n",
    "        minDis = virgi_dis\n",
    "        result.append(\"Iris-Virginica\")\n",
    "    elif(versi_dis < setosa_dis and versi_dis < virgi_dis):\n",
    "        minDis = versi_dis\n",
    "        result.append(\"Iris-Versicolor\")\n",
    "\n",
    "error = 0\n",
    "errDistance = 0\n",
    "errDisSqr = 0\n",
    "errAbsolute = 0\n",
    "\n",
    "for i in range(60):\n",
    "    if(label[i] != result[i]):\n",
    "        error += 1\n",
    "        errDistance += minDis\n",
    "        errDisSqr += minDis ** 2\n",
    "        errAbsolute += abs(minDis)\n",
    "\n",
    "misErrRt.append(error / 60)\n",
    "meanError.append(float(errDistance) / float(error))\n",
    "meanSqrErr.append(float(errDisSqr) / float(error))\n",
    "meanAbsErr.append(float(errAbsolute) / float(error))"
   ]
  },
  {
   "cell_type": "code",
   "execution_count": 25,
   "id": "84a043d3",
   "metadata": {},
   "outputs": [],
   "source": [
    "# Using Canberra Distance\n",
    "result = []\n",
    "for i in test_features:\n",
    "    setosa_dis = Canberra(i, mean_setosa)\n",
    "    virgi_dis = Canberra(i, mean_virginica)\n",
    "    versi_dis = Canberra(i, mean_versi)\n",
    "    if(setosa_dis < virgi_dis and setosa_dis < versi_dis):\n",
    "        minDis = setosa_dis\n",
    "        result.append(\"Iris-Setosa\")\n",
    "    elif(virgi_dis < setosa_dis and virgi_dis < versi_dis):\n",
    "        minDis = virgi_dis\n",
    "        result.append(\"Iris-Virginica\")\n",
    "    elif(versi_dis < setosa_dis and versi_dis < virgi_dis):\n",
    "        minDis = versi_dis\n",
    "        result.append(\"Iris-Versicolor\")\n",
    "\n",
    "error = 0\n",
    "errDistance = 0\n",
    "errDisSqr = 0\n",
    "errAbsolute = 0\n",
    "\n",
    "for i in range(60):\n",
    "    if(label[i] != result[i]):\n",
    "        error += 1\n",
    "        errDistance += minDis\n",
    "        errDisSqr += minDis ** 2\n",
    "        errAbsolute += abs(minDis)\n",
    "\n",
    "misErrRt.append(error / 60)\n",
    "meanError.append(float(errDistance) / float(error))\n",
    "meanSqrErr.append(float(errDisSqr) / float(error))\n",
    "meanAbsErr.append(float(errAbsolute) / float(error))"
   ]
  },
  {
   "cell_type": "markdown",
   "id": "e5360f2d",
   "metadata": {},
   "source": [
    "# Scatter Plots (Iris-Setosa vs Iris-Versicolor vs Iris-Virginica"
   ]
  },
  {
   "cell_type": "code",
   "execution_count": 26,
   "id": "642cea60",
   "metadata": {},
   "outputs": [
    {
     "data": {
      "image/png": "[encoded data removed]",
      "text/plain": [
       "<Figure size 720x720 with 1 Axes>"
      ]
     },
     "metadata": {
      "needs_background": "light"
     },
     "output_type": "display_data"
    },
    {
     "data": {
      "image/png": "[encoded data removed]",
      "text/plain": [
       "<Figure size 720x720 with 1 Axes>"
      ]
     },
     "metadata": {
      "needs_background": "light"
     },
     "output_type": "display_data"
    }
   ],
   "source": [
    "plt.figure(figsize=(10,10))\n",
    "sns.scatterplot(x = df[\"sepal_length(cm)\"], y = df[\"sepal_width(cm)\"], hue = df[\"class\"])\n",
    "plt.legend()\n",
    "plt.title(\"Sepal-length vs Sepal-width\")\n",
    "plt.show()\n",
    "\n",
    "plt.figure(figsize=(10,10))\n",
    "sns.scatterplot(x = df[\"petal_length(cm)\"], y = df[\"petal_width(cm)\"], hue = df[\"class\"])\n",
    "plt.title(\"Petal-length vs Petal-width\")\n",
    "plt.show()"
   ]
  },
  {
   "cell_type": "markdown",
   "id": "ffa54a5b",
   "metadata": {},
   "source": [
    "# Plots for comparison between Classifers"
   ]
  },
  {
   "cell_type": "code",
   "execution_count": 27,
   "id": "553b145b",
   "metadata": {},
   "outputs": [
    {
     "data": {
      "image/png": "[encoded data removed]",
      "text/plain": [
       "<Figure size 720x360 with 1 Axes>"
      ]
     },
     "metadata": {
      "needs_background": "light"
     },
     "output_type": "display_data"
    }
   ],
   "source": [
    "classifier = ['Euclidean', 'City Block', 'Chess Board', 'Mahalanobis', 'Correlation', 'Cosine', 'Bray-Curtis', 'Canberra']\n",
    "\n",
    "fig = plt.figure(figsize = (10,5))\n",
    "plt.bar(classifier, misErrRt, width = 0.5)\n",
    "plt.title(\"Misclassification Error Rate Comparison\")\n",
    "plt.xlabel(\"Classifiers\")\n",
    "plt.ylabel(\"Misclassification Error Rate\")\n",
    "plt.show()"
   ]
  },
  {
   "cell_type": "code",
   "execution_count": 28,
   "id": "b806b903",
   "metadata": {},
   "outputs": [
    {
     "data": {
      "image/png": "[encoded data removed]",
      "text/plain": [
       "<Figure size 720x360 with 1 Axes>"
      ]
     },
     "metadata": {
      "needs_background": "light"
     },
     "output_type": "display_data"
    }
   ],
   "source": [
    "classifier = ['Euclidean', 'City Block', 'Chess Board', 'Mahalanobis', 'Correlation', 'Cosine', 'Bray-Curtis', 'Canberra']\n",
    "\n",
    "fig = plt.figure(figsize = (10,5))\n",
    "plt.bar(classifier, meanError, width = 0.5)\n",
    "plt.title(\"Mean Error Rate Comparison\")\n",
    "plt.xlabel(\"Classifiers\")\n",
    "plt.ylabel(\"Mean Error Rate\")\n",
    "plt.show()"
   ]
  },
  {
   "cell_type": "code",
   "execution_count": 29,
   "id": "4154dbce",
   "metadata": {},
   "outputs": [
    {
     "data": {
      "image/png": "[encoded data removed]",
      "text/plain": [
       "<Figure size 720x360 with 1 Axes>"
      ]
     },
     "metadata": {
      "needs_background": "light"
     },
     "output_type": "display_data"
    }
   ],
   "source": [
    "classifier = ['Euclidean', 'City Block', 'Chess Board', 'Mahalanobis', 'Correlation', 'Cosine', 'Bray-Curtis', 'Canberra']\n",
    "\n",
    "fig = plt.figure(figsize = (10,5))\n",
    "plt.bar(classifier, meanSqrErr, width = 0.5)\n",
    "plt.title(\"Mean Squared Error Comparison\")\n",
    "plt.xlabel(\"Classifiers\")\n",
    "plt.ylabel(\"Mean Squared Error Rate\")\n",
    "plt.show()\n"
   ]
  },
  {
   "cell_type": "code",
   "execution_count": 30,
   "id": "4869ccb2",
   "metadata": {},
   "outputs": [
    {
     "data": {
      "image/png": "[encoded data removed]",
      "text/plain": [
       "<Figure size 720x360 with 1 Axes>"
      ]
     },
     "metadata": {
      "needs_background": "light"
     },
     "output_type": "display_data"
    }
   ],
   "source": [
    "classifier = ['Euclidean', 'City Block', 'Chess Board', 'Mahalanobis', 'Correlation', 'Cosine', 'Bray-Curtis', 'Canberra']\n",
    "\n",
    "fig = plt.figure(figsize = (10,5))\n",
    "plt.bar(classifier, meanAbsErr, width = 0.5)\n",
    "plt.title(\"Mean Absolute Error Rate Comparison\")\n",
    "plt.xlabel(\"Classifiers\")\n",
    "plt.ylabel(\"Mean Absolute Error Rate\")\n",
    "plt.show()"
   ]
  },
  {
   "cell_type": "raw",
   "id": "2631b280",
   "metadata": {},
   "source": []
  },
  {
   "cell_type": "code",
   "execution_count": null,
   "id": "aa50b532",
   "metadata": {},
   "outputs": [],
   "source": []
  }
 ],
 "metadata": {
  "kernelspec": {
   "display_name": "Python 3",
   "language": "python",
   "name": "python3"
  },
  "language_info": {
   "codemirror_mode": {
    "name": "ipython",
    "version": 3
   },
   "file_extension": ".py",
   "mimetype": "text/x-python",
   "name": "python",
   "nbconvert_exporter": "python",
   "pygments_lexer": "ipython3",
   "version": "3.8.8"
  }
 },
 "nbformat": 4,
 "nbformat_minor": 5
}

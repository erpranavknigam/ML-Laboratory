{
 "cells": [
  {
   "cell_type": "code",
   "execution_count": 1,
   "id": "37addc13",
   "metadata": {},
   "outputs": [],
   "source": [
    "import numpy as np\n",
    "import cv2\n",
    "from sklearn.model_selection import train_test_split\n",
    "import matplotlib.pyplot as plt\n",
    "import math"
   ]
  },
  {
   "cell_type": "code",
   "execution_count": 2,
   "id": "79b70970",
   "metadata": {},
   "outputs": [],
   "source": [
    "img1 = cv2.imread('1.jpg',0)\n",
    "img2 = cv2.imread('2.jpg',0)\n",
    "img3 = cv2.imread('3.jpg',0)\n",
    "img4 = cv2.imread('4.jpg',0)"
   ]
  },
  {
   "cell_type": "code",
   "execution_count": 3,
   "id": "1c02313b",
   "metadata": {},
   "outputs": [],
   "source": [
    "sp_x_r = [159,158,153,154,163,167,171,217,160,213,173,163,185,216,159,162,186,170,\n",
    "          150,159,186,211,164,218,228,156,179,151,173,145,185,186,181,213,159,208,\n",
    "          158,191,224,218,178,170,183,171,218,214,218,151,158,225]\n",
    "sp_y_r = [6,38,16,7,30,129,166,292,32,287,127,159,254,286,156,156,233,461,\n",
    "          12,45,229,347,47,324,322,16,120,6,457,19,233,232,228,282,18,292,\n",
    "          20,247,314,344,120,34,233,128,351,287,280,7,9,313]\n",
    "sp_river = []\n",
    "for i in range(len(sp_x_r)):\n",
    "    sp_river.append([sp_x_r[i],sp_y_r[i]])\n",
    "#print(sp_river)\n",
    "sp_x_nr = [230,216,489,311,120,137,417,302,89,427,369,88,79,476,70,316,48,394,\n",
    "           32,448,416,360,287,91,31,293,92,418,68,344,428,55,294,53,380,371,\n",
    "           486,238,446,131,125,308,312,311,275,359,132,210,457,246,299,360,421,493,\n",
    "           236,375,392,48,478,254,427,57,445,448,50,404,392,424,451,379,359,269,\n",
    "           147,412,236,337,232,362,479,475,306,91,462,275,468,102,306,237,338,405,\n",
    "           264,410,220,106,389,110,247,391,63,433]\n",
    "sp_y_nr = [83,214,163,85,402,430,307,49,436,425,244,374,227,43,296,70,118,366,\n",
    "           411,215,113,333,24,235,383,109,402,444,261,420,245,438,149,416,245,66,\n",
    "           18,55,411,226,271,100,336,208,253,444,387,123,340,108,334,365,375,445,\n",
    "           158,355,377,233,75,441,103,404,308,313,96,83,49,173,185,406,458,460,\n",
    "           253,464,98,478,471,327,240,489,239,425,452,65,173,441,478,149,475,90,\n",
    "           289,198,150,168,147,95,457,93,414,197]\n",
    "\n",
    "sp_non_river = []\n",
    "for i in range(len(sp_x_nr)):\n",
    "    sp_non_river.append([sp_x_nr[i],sp_y_nr[i]])\n",
    "#print(sp_non_river)\n"
   ]
  },
  {
   "cell_type": "code",
   "execution_count": 4,
   "id": "5d18fab1",
   "metadata": {},
   "outputs": [],
   "source": [
    "sp_river_p = []\n",
    "non_sp_river_p = []\n",
    "\n",
    "for i in range(len(sp_river)):\n",
    "    sp_river_p.append([img1[sp_river[i][0]][sp_river[i][1]],img2[sp_river[i][0]][sp_river[i][1]],img3[sp_river[i][0]][sp_river[i][1]],img4[sp_river[i][0]][sp_river[i][1]],0])\n",
    "#print(sp_river_p)\n",
    "sp_river_p = np.array(sp_river_p)\n",
    "for i in range(len(sp_non_river)):\n",
    "    non_sp_river_p.append([img1[sp_non_river[i][0]][sp_non_river[i][1]],img2[sp_non_river[i][0]][sp_non_river[i][1]],img3[sp_non_river[i][0]][sp_non_river[i][1]],img4[sp_non_river[i][0]][sp_non_river[i][1]],1])\n",
    "#print(non_sp_river_p)\n",
    "non_sp_river_p = np.array(non_sp_river_p)\n",
    "\n",
    "#print(sp_river_p)\n",
    "#print(non_sp_river_p)"
   ]
  },
  {
   "cell_type": "code",
   "execution_count": 5,
   "id": "94136e8b",
   "metadata": {},
   "outputs": [],
   "source": [
    "river_train,river_test = train_test_split(sp_river_p, test_size = 0.4)\n",
    "non_river_train, non_river_test = train_test_split(non_sp_river_p, test_size = 0.4)"
   ]
  },
  {
   "cell_type": "code",
   "execution_count": 6,
   "id": "94da1d65",
   "metadata": {},
   "outputs": [],
   "source": [
    "training_data = np.concatenate((river_train,non_river_train),axis = 0)\n",
    "testing_data = np.concatenate((river_test,non_river_test),axis = 0)\n",
    "#print(testing_data)"
   ]
  },
  {
   "cell_type": "code",
   "execution_count": 7,
   "id": "28f0f818",
   "metadata": {},
   "outputs": [],
   "source": [
    "# Euclidean Distance\n",
    "def euclidean(p,q):\n",
    "    dis = 0\n",
    "    i = 0\n",
    "    while i <= 3:\n",
    "        #print(p[i],'-->',q[i])\n",
    "        dis += ((q[i]-p[i])**2)\n",
    "        #print(dis)\n",
    "        i = i + 1\n",
    "    dis = math.sqrt(dis)\n",
    "    dis = round(dis,2)\n",
    "    return [dis,q[4]]"
   ]
  },
  {
   "cell_type": "code",
   "execution_count": 8,
   "id": "5bb55de3",
   "metadata": {},
   "outputs": [],
   "source": [
    "# Apply Euclidean\n",
    "for i in range(0,len(testing_data)):\n",
    "    dist = []\n",
    "    for j in range(0,len(training_data)):\n",
    "        dist.append(euclidean(testing_data[i],training_data[j]))\n",
    "#print(dist)"
   ]
  },
  {
   "cell_type": "code",
   "execution_count": 9,
   "id": "77f9d26f",
   "metadata": {},
   "outputs": [
    {
     "name": "stdout",
     "output_type": "stream",
     "text": [
      "K     Accuracy\n",
      "--------------\n",
      "1     0.53\n",
      "3     0.57\n",
      "5     0.58\n",
      "7     0.58\n",
      "9     0.62\n"
     ]
    }
   ],
   "source": [
    "K=[1,3,5,7,9]\n",
    "accuracy=[]\n",
    "for k in K:\n",
    "    valid=0\n",
    "    for i in range(0,len(testing_data)):\n",
    "        distance=[]\n",
    "        for j in range(0,len(training_data)):\n",
    "            distance.append(euclidean(testing_data[i],training_data[j]))\n",
    "        distance.sort()\n",
    "        k_distance=distance[:k]\n",
    "        #print(len(k_distance))\n",
    "        total=0;\n",
    "        \n",
    "        for a in range(0,len(k_distance)):\n",
    "            if(k_distance[a][1]==1):\n",
    "                total+=1\n",
    "        if(total>(k//2)):\n",
    "            if(testing_data[i][4]==1):\n",
    "                valid+=1\n",
    "        else:\n",
    "            if(testing_data[i][4]==0):\n",
    "                valid+=1\n",
    "    accuracy.append(round(valid/len(testing_data),2))\n",
    "print(\"K\",\"   \",\"Accuracy\")\n",
    "print(\"--------------\")\n",
    "for i in range(0,len(K)):\n",
    "    print(K[i],\"   \",accuracy[i])\n"
   ]
  },
  {
   "cell_type": "code",
   "execution_count": 10,
   "id": "6e1b0a74",
   "metadata": {},
   "outputs": [
    {
     "data": {
      "image/png": "[encoded data removed]",
      "text/plain": [
       "<Figure size 720x720 with 1 Axes>"
      ]
     },
     "metadata": {
      "needs_background": "light"
     },
     "output_type": "display_data"
    }
   ],
   "source": [
    "x_axis = [1,3,5,7,9]\n",
    "y_axis = accuracy\n",
    "\n",
    "plt.figure(figsize=(10,10))\n",
    "plt.title(\"Accuracy vs K-value\",fontsize=\"25\")\n",
    "plt.xlabel(\"K-Value\",fontsize=\"20\")\n",
    "plt.ylabel(\"Accuracy\",fontsize=\"20\")\n",
    "plt.plot(x_axis,y_axis)\n",
    "plt.show()"
   ]
  }
 ],
 "metadata": {
  "kernelspec": {
   "display_name": "Python 3",
   "language": "python",
   "name": "python3"
  },
  "language_info": {
   "codemirror_mode": {
    "name": "ipython",
    "version": 3
   },
   "file_extension": ".py",
   "mimetype": "text/x-python",
   "name": "python",
   "nbconvert_exporter": "python",
   "pygments_lexer": "ipython3",
   "version": "3.8.8"
  }
 },
 "nbformat": 4,
 "nbformat_minor": 5
}

{
 "cells": [
  {
   "cell_type": "markdown",
   "id": "d98467f3",
   "metadata": {},
   "source": [
    "## Importing Packages"
   ]
  },
  {
   "cell_type": "code",
   "execution_count": 49,
   "id": "22aee96e",
   "metadata": {},
   "outputs": [],
   "source": [
    "import pandas as pd\n",
    "import numpy as np\n",
    "import matplotlib.pyplot as plt"
   ]
  },
  {
   "cell_type": "markdown",
   "id": "9cb31828",
   "metadata": {},
   "source": [
    "## Creating Lists "
   ]
  },
  {
   "cell_type": "code",
   "execution_count": 50,
   "id": "8660548c",
   "metadata": {},
   "outputs": [],
   "source": [
    "X = [50,53,54,55,56,59,62,65,67,71,72,74,75,76,79,80,82,85,87,90,93,94,95,97,100]\n",
    "Y = [122,118,128,121,125,136,144,142,149,161,167,168,162,171,175,182,180,183,188,200,194,206,207,210,219]"
   ]
  },
  {
   "cell_type": "markdown",
   "id": "803af0c3",
   "metadata": {},
   "source": [
    "## Creating Dataframe"
   ]
  },
  {
   "cell_type": "code",
   "execution_count": 51,
   "id": "2276421c",
   "metadata": {},
   "outputs": [
    {
     "data": {
      "text/html": [
       "<div>\n",
       "<style scoped>\n",
       "    .dataframe tbody tr th:only-of-type {\n",
       "        vertical-align: middle;\n",
       "    }\n",
       "\n",
       "    .dataframe tbody tr th {\n",
       "        vertical-align: top;\n",
       "    }\n",
       "\n",
       "    .dataframe thead th {\n",
       "        text-align: right;\n",
       "    }\n",
       "</style>\n",
       "<table border=\"1\" class=\"dataframe\">\n",
       "  <thead>\n",
       "    <tr style=\"text-align: right;\">\n",
       "      <th></th>\n",
       "      <th>X</th>\n",
       "      <th>Y</th>\n",
       "    </tr>\n",
       "  </thead>\n",
       "  <tbody>\n",
       "    <tr>\n",
       "      <th>0</th>\n",
       "      <td>50</td>\n",
       "      <td>122</td>\n",
       "    </tr>\n",
       "    <tr>\n",
       "      <th>1</th>\n",
       "      <td>53</td>\n",
       "      <td>118</td>\n",
       "    </tr>\n",
       "    <tr>\n",
       "      <th>2</th>\n",
       "      <td>54</td>\n",
       "      <td>128</td>\n",
       "    </tr>\n",
       "    <tr>\n",
       "      <th>3</th>\n",
       "      <td>55</td>\n",
       "      <td>121</td>\n",
       "    </tr>\n",
       "    <tr>\n",
       "      <th>4</th>\n",
       "      <td>56</td>\n",
       "      <td>125</td>\n",
       "    </tr>\n",
       "    <tr>\n",
       "      <th>5</th>\n",
       "      <td>59</td>\n",
       "      <td>136</td>\n",
       "    </tr>\n",
       "    <tr>\n",
       "      <th>6</th>\n",
       "      <td>62</td>\n",
       "      <td>144</td>\n",
       "    </tr>\n",
       "    <tr>\n",
       "      <th>7</th>\n",
       "      <td>65</td>\n",
       "      <td>142</td>\n",
       "    </tr>\n",
       "    <tr>\n",
       "      <th>8</th>\n",
       "      <td>67</td>\n",
       "      <td>149</td>\n",
       "    </tr>\n",
       "    <tr>\n",
       "      <th>9</th>\n",
       "      <td>71</td>\n",
       "      <td>161</td>\n",
       "    </tr>\n",
       "    <tr>\n",
       "      <th>10</th>\n",
       "      <td>72</td>\n",
       "      <td>167</td>\n",
       "    </tr>\n",
       "    <tr>\n",
       "      <th>11</th>\n",
       "      <td>74</td>\n",
       "      <td>168</td>\n",
       "    </tr>\n",
       "    <tr>\n",
       "      <th>12</th>\n",
       "      <td>75</td>\n",
       "      <td>162</td>\n",
       "    </tr>\n",
       "    <tr>\n",
       "      <th>13</th>\n",
       "      <td>76</td>\n",
       "      <td>171</td>\n",
       "    </tr>\n",
       "    <tr>\n",
       "      <th>14</th>\n",
       "      <td>79</td>\n",
       "      <td>175</td>\n",
       "    </tr>\n",
       "    <tr>\n",
       "      <th>15</th>\n",
       "      <td>80</td>\n",
       "      <td>182</td>\n",
       "    </tr>\n",
       "    <tr>\n",
       "      <th>16</th>\n",
       "      <td>82</td>\n",
       "      <td>180</td>\n",
       "    </tr>\n",
       "    <tr>\n",
       "      <th>17</th>\n",
       "      <td>85</td>\n",
       "      <td>183</td>\n",
       "    </tr>\n",
       "    <tr>\n",
       "      <th>18</th>\n",
       "      <td>87</td>\n",
       "      <td>188</td>\n",
       "    </tr>\n",
       "    <tr>\n",
       "      <th>19</th>\n",
       "      <td>90</td>\n",
       "      <td>200</td>\n",
       "    </tr>\n",
       "    <tr>\n",
       "      <th>20</th>\n",
       "      <td>93</td>\n",
       "      <td>194</td>\n",
       "    </tr>\n",
       "    <tr>\n",
       "      <th>21</th>\n",
       "      <td>94</td>\n",
       "      <td>206</td>\n",
       "    </tr>\n",
       "    <tr>\n",
       "      <th>22</th>\n",
       "      <td>95</td>\n",
       "      <td>207</td>\n",
       "    </tr>\n",
       "    <tr>\n",
       "      <th>23</th>\n",
       "      <td>97</td>\n",
       "      <td>210</td>\n",
       "    </tr>\n",
       "    <tr>\n",
       "      <th>24</th>\n",
       "      <td>100</td>\n",
       "      <td>219</td>\n",
       "    </tr>\n",
       "  </tbody>\n",
       "</table>\n",
       "</div>"
      ],
      "text/plain": [
       "      X    Y\n",
       "0    50  122\n",
       "1    53  118\n",
       "2    54  128\n",
       "3    55  121\n",
       "4    56  125\n",
       "5    59  136\n",
       "6    62  144\n",
       "7    65  142\n",
       "8    67  149\n",
       "9    71  161\n",
       "10   72  167\n",
       "11   74  168\n",
       "12   75  162\n",
       "13   76  171\n",
       "14   79  175\n",
       "15   80  182\n",
       "16   82  180\n",
       "17   85  183\n",
       "18   87  188\n",
       "19   90  200\n",
       "20   93  194\n",
       "21   94  206\n",
       "22   95  207\n",
       "23   97  210\n",
       "24  100  219"
      ]
     },
     "execution_count": 51,
     "metadata": {},
     "output_type": "execute_result"
    }
   ],
   "source": [
    "df = pd.DataFrame(list(zip(X,Y)), columns=['X','Y'])\n",
    "df"
   ]
  },
  {
   "cell_type": "markdown",
   "id": "1c5e2d54",
   "metadata": {},
   "source": [
    "## Plotting Scatter Plot"
   ]
  },
  {
   "cell_type": "code",
   "execution_count": 52,
   "id": "5cad5017",
   "metadata": {},
   "outputs": [
    {
     "data": {
      "image/png": "[encoded data removed]",
      "text/plain": [
       "<Figure size 432x288 with 1 Axes>"
      ]
     },
     "metadata": {
      "needs_background": "light"
     },
     "output_type": "display_data"
    }
   ],
   "source": [
    "plt.scatter(X,Y)\n",
    "plt.xlabel('X')\n",
    "plt.ylabel('Y')\n",
    "plt.title(\"X vs Y\")\n",
    "plt.show()"
   ]
  },
  {
   "cell_type": "markdown",
   "id": "027d16d8",
   "metadata": {},
   "source": [
    "## Calculating Different Values"
   ]
  },
  {
   "cell_type": "code",
   "execution_count": 53,
   "id": "b36f1603",
   "metadata": {},
   "outputs": [
    {
     "name": "stdout",
     "output_type": "stream",
     "text": [
      "[2500, 2809, 2916, 3025, 3136, 3481, 3844, 4225, 4489, 5041, 5184, 5476, 5625, 5776, 6241, 6400, 6724, 7225, 7569, 8100, 8649, 8836, 9025, 9409, 10000]\n",
      "[14884, 13924, 16384, 14641, 15625, 18496, 20736, 20164, 22201, 25921, 27889, 28224, 26244, 29241, 30625, 33124, 32400, 33489, 35344, 40000, 37636, 42436, 42849, 44100, 47961]\n",
      "[6100, 6254, 6912, 6655, 7000, 8024, 8928, 9230, 9983, 11431, 12024, 12432, 12150, 12996, 13825, 14560, 14760, 15555, 16356, 18000, 18042, 19364, 19665, 20370, 21900]\n"
     ]
    }
   ],
   "source": [
    "sqr_x = []\n",
    "sqr_y = []\n",
    "x_y = []\n",
    "for i in range(len(X)):\n",
    "    x = X[i]\n",
    "    y = Y[i]\n",
    "    sqr_x.append(x*x)\n",
    "    sqr_y.append(y*y)\n",
    "    x_y.append(x*y)\n",
    "print(sqr_x)\n",
    "print(sqr_y)\n",
    "print(x_y)"
   ]
  },
  {
   "cell_type": "markdown",
   "id": "e3c7986f",
   "metadata": {},
   "source": [
    "## Modifing DataFrame "
   ]
  },
  {
   "cell_type": "code",
   "execution_count": 54,
   "id": "831c4ffe",
   "metadata": {},
   "outputs": [],
   "source": [
    "df['XY'] = x_y\n",
    "df['X2'] = sqr_x\n",
    "df['Y2'] = sqr_y\n",
    "sum_x = sum(df['X'])\n",
    "sum_y = sum(df['Y'])\n",
    "sum_xy = sum(df['XY'])\n",
    "sum_x2 = sum(df['X2'])\n",
    "sum_y2 = sum(df['Y2'])\n",
    "\n",
    "df.loc[len(df.index)] = [sum_x, sum_y, sum_xy, sum_x2, sum_y2]"
   ]
  },
  {
   "cell_type": "markdown",
   "id": "12a9ed2a",
   "metadata": {},
   "source": [
    "## Displaying DataFrame"
   ]
  },
  {
   "cell_type": "code",
   "execution_count": 55,
   "id": "4fc6d9ed",
   "metadata": {},
   "outputs": [
    {
     "data": {
      "text/html": [
       "<div>\n",
       "<style scoped>\n",
       "    .dataframe tbody tr th:only-of-type {\n",
       "        vertical-align: middle;\n",
       "    }\n",
       "\n",
       "    .dataframe tbody tr th {\n",
       "        vertical-align: top;\n",
       "    }\n",
       "\n",
       "    .dataframe thead th {\n",
       "        text-align: right;\n",
       "    }\n",
       "</style>\n",
       "<table border=\"1\" class=\"dataframe\">\n",
       "  <thead>\n",
       "    <tr style=\"text-align: right;\">\n",
       "      <th></th>\n",
       "      <th>X</th>\n",
       "      <th>Y</th>\n",
       "      <th>XY</th>\n",
       "      <th>X2</th>\n",
       "      <th>Y2</th>\n",
       "    </tr>\n",
       "  </thead>\n",
       "  <tbody>\n",
       "    <tr>\n",
       "      <th>0</th>\n",
       "      <td>50</td>\n",
       "      <td>122</td>\n",
       "      <td>6100</td>\n",
       "      <td>2500</td>\n",
       "      <td>14884</td>\n",
       "    </tr>\n",
       "    <tr>\n",
       "      <th>1</th>\n",
       "      <td>53</td>\n",
       "      <td>118</td>\n",
       "      <td>6254</td>\n",
       "      <td>2809</td>\n",
       "      <td>13924</td>\n",
       "    </tr>\n",
       "    <tr>\n",
       "      <th>2</th>\n",
       "      <td>54</td>\n",
       "      <td>128</td>\n",
       "      <td>6912</td>\n",
       "      <td>2916</td>\n",
       "      <td>16384</td>\n",
       "    </tr>\n",
       "    <tr>\n",
       "      <th>3</th>\n",
       "      <td>55</td>\n",
       "      <td>121</td>\n",
       "      <td>6655</td>\n",
       "      <td>3025</td>\n",
       "      <td>14641</td>\n",
       "    </tr>\n",
       "    <tr>\n",
       "      <th>4</th>\n",
       "      <td>56</td>\n",
       "      <td>125</td>\n",
       "      <td>7000</td>\n",
       "      <td>3136</td>\n",
       "      <td>15625</td>\n",
       "    </tr>\n",
       "    <tr>\n",
       "      <th>5</th>\n",
       "      <td>59</td>\n",
       "      <td>136</td>\n",
       "      <td>8024</td>\n",
       "      <td>3481</td>\n",
       "      <td>18496</td>\n",
       "    </tr>\n",
       "    <tr>\n",
       "      <th>6</th>\n",
       "      <td>62</td>\n",
       "      <td>144</td>\n",
       "      <td>8928</td>\n",
       "      <td>3844</td>\n",
       "      <td>20736</td>\n",
       "    </tr>\n",
       "    <tr>\n",
       "      <th>7</th>\n",
       "      <td>65</td>\n",
       "      <td>142</td>\n",
       "      <td>9230</td>\n",
       "      <td>4225</td>\n",
       "      <td>20164</td>\n",
       "    </tr>\n",
       "    <tr>\n",
       "      <th>8</th>\n",
       "      <td>67</td>\n",
       "      <td>149</td>\n",
       "      <td>9983</td>\n",
       "      <td>4489</td>\n",
       "      <td>22201</td>\n",
       "    </tr>\n",
       "    <tr>\n",
       "      <th>9</th>\n",
       "      <td>71</td>\n",
       "      <td>161</td>\n",
       "      <td>11431</td>\n",
       "      <td>5041</td>\n",
       "      <td>25921</td>\n",
       "    </tr>\n",
       "    <tr>\n",
       "      <th>10</th>\n",
       "      <td>72</td>\n",
       "      <td>167</td>\n",
       "      <td>12024</td>\n",
       "      <td>5184</td>\n",
       "      <td>27889</td>\n",
       "    </tr>\n",
       "    <tr>\n",
       "      <th>11</th>\n",
       "      <td>74</td>\n",
       "      <td>168</td>\n",
       "      <td>12432</td>\n",
       "      <td>5476</td>\n",
       "      <td>28224</td>\n",
       "    </tr>\n",
       "    <tr>\n",
       "      <th>12</th>\n",
       "      <td>75</td>\n",
       "      <td>162</td>\n",
       "      <td>12150</td>\n",
       "      <td>5625</td>\n",
       "      <td>26244</td>\n",
       "    </tr>\n",
       "    <tr>\n",
       "      <th>13</th>\n",
       "      <td>76</td>\n",
       "      <td>171</td>\n",
       "      <td>12996</td>\n",
       "      <td>5776</td>\n",
       "      <td>29241</td>\n",
       "    </tr>\n",
       "    <tr>\n",
       "      <th>14</th>\n",
       "      <td>79</td>\n",
       "      <td>175</td>\n",
       "      <td>13825</td>\n",
       "      <td>6241</td>\n",
       "      <td>30625</td>\n",
       "    </tr>\n",
       "    <tr>\n",
       "      <th>15</th>\n",
       "      <td>80</td>\n",
       "      <td>182</td>\n",
       "      <td>14560</td>\n",
       "      <td>6400</td>\n",
       "      <td>33124</td>\n",
       "    </tr>\n",
       "    <tr>\n",
       "      <th>16</th>\n",
       "      <td>82</td>\n",
       "      <td>180</td>\n",
       "      <td>14760</td>\n",
       "      <td>6724</td>\n",
       "      <td>32400</td>\n",
       "    </tr>\n",
       "    <tr>\n",
       "      <th>17</th>\n",
       "      <td>85</td>\n",
       "      <td>183</td>\n",
       "      <td>15555</td>\n",
       "      <td>7225</td>\n",
       "      <td>33489</td>\n",
       "    </tr>\n",
       "    <tr>\n",
       "      <th>18</th>\n",
       "      <td>87</td>\n",
       "      <td>188</td>\n",
       "      <td>16356</td>\n",
       "      <td>7569</td>\n",
       "      <td>35344</td>\n",
       "    </tr>\n",
       "    <tr>\n",
       "      <th>19</th>\n",
       "      <td>90</td>\n",
       "      <td>200</td>\n",
       "      <td>18000</td>\n",
       "      <td>8100</td>\n",
       "      <td>40000</td>\n",
       "    </tr>\n",
       "    <tr>\n",
       "      <th>20</th>\n",
       "      <td>93</td>\n",
       "      <td>194</td>\n",
       "      <td>18042</td>\n",
       "      <td>8649</td>\n",
       "      <td>37636</td>\n",
       "    </tr>\n",
       "    <tr>\n",
       "      <th>21</th>\n",
       "      <td>94</td>\n",
       "      <td>206</td>\n",
       "      <td>19364</td>\n",
       "      <td>8836</td>\n",
       "      <td>42436</td>\n",
       "    </tr>\n",
       "    <tr>\n",
       "      <th>22</th>\n",
       "      <td>95</td>\n",
       "      <td>207</td>\n",
       "      <td>19665</td>\n",
       "      <td>9025</td>\n",
       "      <td>42849</td>\n",
       "    </tr>\n",
       "    <tr>\n",
       "      <th>23</th>\n",
       "      <td>97</td>\n",
       "      <td>210</td>\n",
       "      <td>20370</td>\n",
       "      <td>9409</td>\n",
       "      <td>44100</td>\n",
       "    </tr>\n",
       "    <tr>\n",
       "      <th>24</th>\n",
       "      <td>100</td>\n",
       "      <td>219</td>\n",
       "      <td>21900</td>\n",
       "      <td>10000</td>\n",
       "      <td>47961</td>\n",
       "    </tr>\n",
       "    <tr>\n",
       "      <th>25</th>\n",
       "      <td>1871</td>\n",
       "      <td>4158</td>\n",
       "      <td>322516</td>\n",
       "      <td>145705</td>\n",
       "      <td>714538</td>\n",
       "    </tr>\n",
       "  </tbody>\n",
       "</table>\n",
       "</div>"
      ],
      "text/plain": [
       "       X     Y      XY      X2      Y2\n",
       "0     50   122    6100    2500   14884\n",
       "1     53   118    6254    2809   13924\n",
       "2     54   128    6912    2916   16384\n",
       "3     55   121    6655    3025   14641\n",
       "4     56   125    7000    3136   15625\n",
       "5     59   136    8024    3481   18496\n",
       "6     62   144    8928    3844   20736\n",
       "7     65   142    9230    4225   20164\n",
       "8     67   149    9983    4489   22201\n",
       "9     71   161   11431    5041   25921\n",
       "10    72   167   12024    5184   27889\n",
       "11    74   168   12432    5476   28224\n",
       "12    75   162   12150    5625   26244\n",
       "13    76   171   12996    5776   29241\n",
       "14    79   175   13825    6241   30625\n",
       "15    80   182   14560    6400   33124\n",
       "16    82   180   14760    6724   32400\n",
       "17    85   183   15555    7225   33489\n",
       "18    87   188   16356    7569   35344\n",
       "19    90   200   18000    8100   40000\n",
       "20    93   194   18042    8649   37636\n",
       "21    94   206   19364    8836   42436\n",
       "22    95   207   19665    9025   42849\n",
       "23    97   210   20370    9409   44100\n",
       "24   100   219   21900   10000   47961\n",
       "25  1871  4158  322516  145705  714538"
      ]
     },
     "execution_count": 55,
     "metadata": {},
     "output_type": "execute_result"
    }
   ],
   "source": [
    "df"
   ]
  },
  {
   "cell_type": "markdown",
   "id": "5802e8ad",
   "metadata": {},
   "source": [
    "## Function for Calculating Covariance"
   ]
  },
  {
   "cell_type": "code",
   "execution_count": 56,
   "id": "5d81948f",
   "metadata": {},
   "outputs": [],
   "source": [
    "def calCov(x,y):\n",
    "    mean_x = sum(x)/25.0\n",
    "    mean_y = sum(y)/25.0\n",
    "    total_sum = 0\n",
    "    for i in range(len(x)):\n",
    "        total_sum += (x[i]-mean_x)*(y[i]-mean_y)\n",
    "    return (total_sum / 24.0)\n"
   ]
  },
  {
   "cell_type": "markdown",
   "id": "bbe1993e",
   "metadata": {},
   "source": [
    "## Function for Calculating Variance"
   ]
  },
  {
   "cell_type": "code",
   "execution_count": 57,
   "id": "b93b4673",
   "metadata": {},
   "outputs": [],
   "source": [
    "def calVar(x):\n",
    "    t_sum = 0\n",
    "    m_x = sum(x)/25.0\n",
    "    for i in range(len(x)):\n",
    "        t_sum += pow((x[i]-m_x),2)\n",
    "    return (t_sum/24.0)"
   ]
  },
  {
   "cell_type": "markdown",
   "id": "667a4e46",
   "metadata": {},
   "source": [
    "## Calculating value of Beta 1 "
   ]
  },
  {
   "cell_type": "code",
   "execution_count": 58,
   "id": "c5d7830c",
   "metadata": {},
   "outputs": [
    {
     "name": "stdout",
     "output_type": "stream",
     "text": [
      "1.9951684696867253\n"
     ]
    }
   ],
   "source": [
    "w = calCov(X,Y)\n",
    "z = calVar(X)\n",
    "beta_1 = w / z\n",
    "print(beta_1)"
   ]
  },
  {
   "cell_type": "markdown",
   "id": "dedd8116",
   "metadata": {},
   "source": [
    "## Calculating value of Beta 0"
   ]
  },
  {
   "cell_type": "code",
   "execution_count": 59,
   "id": "671e101a",
   "metadata": {},
   "outputs": [
    {
     "name": "stdout",
     "output_type": "stream",
     "text": [
      "17.00159172864545\n"
     ]
    }
   ],
   "source": [
    "mean_y = np.mean(Y)\n",
    "mean_x = np.mean(X)\n",
    "beta_0 = mean_y - (beta_1 * mean_x)\n",
    "print(beta_0)"
   ]
  },
  {
   "cell_type": "markdown",
   "id": "0f75d09b",
   "metadata": {},
   "source": [
    "## Fitting Data"
   ]
  },
  {
   "cell_type": "code",
   "execution_count": 60,
   "id": "a8376e3b",
   "metadata": {},
   "outputs": [
    {
     "data": {
      "image/png": "[encoded data removed]",
      "text/plain": [
       "<Figure size 432x288 with 1 Axes>"
      ]
     },
     "metadata": {
      "needs_background": "light"
     },
     "output_type": "display_data"
    }
   ],
   "source": [
    "X = np.array(X)\n",
    "Y = np.array(Y)\n",
    "plt.scatter(X,Y)\n",
    "plt.plot(X,beta_0+(beta_1*X))\n",
    "plt.show()"
   ]
  },
  {
   "cell_type": "markdown",
   "id": "c6dd7966",
   "metadata": {},
   "source": [
    "## Calculating Fitted Values"
   ]
  },
  {
   "cell_type": "code",
   "execution_count": 61,
   "id": "cd0af438",
   "metadata": {},
   "outputs": [
    {
     "name": "stdout",
     "output_type": "stream",
     "text": [
      "[116.76001521298171, 122.7455206220419, 124.74068909172863, 126.73585756141534, 128.7310260311021, 134.71653144016224, 140.70203684922242, 146.6875422582826, 150.67787919765604, 158.65855307640294, 160.65372154608968, 164.64405848546312, 166.63922695514987, 168.63439542483658, 174.61990083389676, 176.61506930358348, 180.60540624295692, 186.5909116520171, 190.58124859139056, 196.56675400045074, 202.5522594095109, 204.54742787919764, 206.54259634888436, 210.53293328825782, 216.51843869731798]\n"
     ]
    }
   ],
   "source": [
    "fitted_values = []\n",
    "for i in range(len(Y)):\n",
    "    val = beta_0 + beta_1 * X[i]\n",
    "    fitted_values.append(val)\n",
    "print(fitted_values)"
   ]
  },
  {
   "cell_type": "markdown",
   "id": "40564b3e",
   "metadata": {},
   "source": [
    "## Calculate Residuals"
   ]
  },
  {
   "cell_type": "code",
   "execution_count": 62,
   "id": "860581f7",
   "metadata": {},
   "outputs": [
    {
     "name": "stdout",
     "output_type": "stream",
     "text": [
      "[5.239984787018287, -4.745520622041894, 3.259310908271374, -5.735857561415344, -3.7310260311020897, 1.2834685598377575, 3.2979631507775764, -4.687542258282605, -1.6778791976560399, 2.3414469235970614, 6.346278453910315, 3.3559415145368803, -4.639226955149866, 2.3656045751634167, 0.3800991661032356, 5.384930696416518, -0.6054062429569171, -3.5909116520170983, -2.581248591390562, 3.433245999549257, -8.552259409510896, 1.4525721208023583, 0.45740365111564074, -0.5329332882578228, 2.4815613026820245]\n"
     ]
    }
   ],
   "source": [
    "residual = []\n",
    "for i in range(len(Y)):\n",
    "    res_i = Y[i] - fitted_values[i]\n",
    "    residual.append(res_i)\n",
    "print(residual)"
   ]
  },
  {
   "cell_type": "markdown",
   "id": "03537ad2",
   "metadata": {},
   "source": [
    "## Preparing Error Table Dataframe"
   ]
  },
  {
   "cell_type": "code",
   "execution_count": 63,
   "id": "1a157b0d",
   "metadata": {},
   "outputs": [
    {
     "data": {
      "text/html": [
       "<div>\n",
       "<style scoped>\n",
       "    .dataframe tbody tr th:only-of-type {\n",
       "        vertical-align: middle;\n",
       "    }\n",
       "\n",
       "    .dataframe tbody tr th {\n",
       "        vertical-align: top;\n",
       "    }\n",
       "\n",
       "    .dataframe thead th {\n",
       "        text-align: right;\n",
       "    }\n",
       "</style>\n",
       "<table border=\"1\" class=\"dataframe\">\n",
       "  <thead>\n",
       "    <tr style=\"text-align: right;\">\n",
       "      <th></th>\n",
       "      <th>Actual Y</th>\n",
       "      <th>Fitted Y</th>\n",
       "      <th>Residual</th>\n",
       "    </tr>\n",
       "  </thead>\n",
       "  <tbody>\n",
       "    <tr>\n",
       "      <th>0</th>\n",
       "      <td>122</td>\n",
       "      <td>116.760015</td>\n",
       "      <td>5.239985</td>\n",
       "    </tr>\n",
       "    <tr>\n",
       "      <th>1</th>\n",
       "      <td>118</td>\n",
       "      <td>122.745521</td>\n",
       "      <td>-4.745521</td>\n",
       "    </tr>\n",
       "    <tr>\n",
       "      <th>2</th>\n",
       "      <td>128</td>\n",
       "      <td>124.740689</td>\n",
       "      <td>3.259311</td>\n",
       "    </tr>\n",
       "    <tr>\n",
       "      <th>3</th>\n",
       "      <td>121</td>\n",
       "      <td>126.735858</td>\n",
       "      <td>-5.735858</td>\n",
       "    </tr>\n",
       "    <tr>\n",
       "      <th>4</th>\n",
       "      <td>125</td>\n",
       "      <td>128.731026</td>\n",
       "      <td>-3.731026</td>\n",
       "    </tr>\n",
       "    <tr>\n",
       "      <th>5</th>\n",
       "      <td>136</td>\n",
       "      <td>134.716531</td>\n",
       "      <td>1.283469</td>\n",
       "    </tr>\n",
       "    <tr>\n",
       "      <th>6</th>\n",
       "      <td>144</td>\n",
       "      <td>140.702037</td>\n",
       "      <td>3.297963</td>\n",
       "    </tr>\n",
       "    <tr>\n",
       "      <th>7</th>\n",
       "      <td>142</td>\n",
       "      <td>146.687542</td>\n",
       "      <td>-4.687542</td>\n",
       "    </tr>\n",
       "    <tr>\n",
       "      <th>8</th>\n",
       "      <td>149</td>\n",
       "      <td>150.677879</td>\n",
       "      <td>-1.677879</td>\n",
       "    </tr>\n",
       "    <tr>\n",
       "      <th>9</th>\n",
       "      <td>161</td>\n",
       "      <td>158.658553</td>\n",
       "      <td>2.341447</td>\n",
       "    </tr>\n",
       "    <tr>\n",
       "      <th>10</th>\n",
       "      <td>167</td>\n",
       "      <td>160.653722</td>\n",
       "      <td>6.346278</td>\n",
       "    </tr>\n",
       "    <tr>\n",
       "      <th>11</th>\n",
       "      <td>168</td>\n",
       "      <td>164.644058</td>\n",
       "      <td>3.355942</td>\n",
       "    </tr>\n",
       "    <tr>\n",
       "      <th>12</th>\n",
       "      <td>162</td>\n",
       "      <td>166.639227</td>\n",
       "      <td>-4.639227</td>\n",
       "    </tr>\n",
       "    <tr>\n",
       "      <th>13</th>\n",
       "      <td>171</td>\n",
       "      <td>168.634395</td>\n",
       "      <td>2.365605</td>\n",
       "    </tr>\n",
       "    <tr>\n",
       "      <th>14</th>\n",
       "      <td>175</td>\n",
       "      <td>174.619901</td>\n",
       "      <td>0.380099</td>\n",
       "    </tr>\n",
       "    <tr>\n",
       "      <th>15</th>\n",
       "      <td>182</td>\n",
       "      <td>176.615069</td>\n",
       "      <td>5.384931</td>\n",
       "    </tr>\n",
       "    <tr>\n",
       "      <th>16</th>\n",
       "      <td>180</td>\n",
       "      <td>180.605406</td>\n",
       "      <td>-0.605406</td>\n",
       "    </tr>\n",
       "    <tr>\n",
       "      <th>17</th>\n",
       "      <td>183</td>\n",
       "      <td>186.590912</td>\n",
       "      <td>-3.590912</td>\n",
       "    </tr>\n",
       "    <tr>\n",
       "      <th>18</th>\n",
       "      <td>188</td>\n",
       "      <td>190.581249</td>\n",
       "      <td>-2.581249</td>\n",
       "    </tr>\n",
       "    <tr>\n",
       "      <th>19</th>\n",
       "      <td>200</td>\n",
       "      <td>196.566754</td>\n",
       "      <td>3.433246</td>\n",
       "    </tr>\n",
       "    <tr>\n",
       "      <th>20</th>\n",
       "      <td>194</td>\n",
       "      <td>202.552259</td>\n",
       "      <td>-8.552259</td>\n",
       "    </tr>\n",
       "    <tr>\n",
       "      <th>21</th>\n",
       "      <td>206</td>\n",
       "      <td>204.547428</td>\n",
       "      <td>1.452572</td>\n",
       "    </tr>\n",
       "    <tr>\n",
       "      <th>22</th>\n",
       "      <td>207</td>\n",
       "      <td>206.542596</td>\n",
       "      <td>0.457404</td>\n",
       "    </tr>\n",
       "    <tr>\n",
       "      <th>23</th>\n",
       "      <td>210</td>\n",
       "      <td>210.532933</td>\n",
       "      <td>-0.532933</td>\n",
       "    </tr>\n",
       "    <tr>\n",
       "      <th>24</th>\n",
       "      <td>219</td>\n",
       "      <td>216.518439</td>\n",
       "      <td>2.481561</td>\n",
       "    </tr>\n",
       "  </tbody>\n",
       "</table>\n",
       "</div>"
      ],
      "text/plain": [
       "    Actual Y    Fitted Y  Residual\n",
       "0        122  116.760015  5.239985\n",
       "1        118  122.745521 -4.745521\n",
       "2        128  124.740689  3.259311\n",
       "3        121  126.735858 -5.735858\n",
       "4        125  128.731026 -3.731026\n",
       "5        136  134.716531  1.283469\n",
       "6        144  140.702037  3.297963\n",
       "7        142  146.687542 -4.687542\n",
       "8        149  150.677879 -1.677879\n",
       "9        161  158.658553  2.341447\n",
       "10       167  160.653722  6.346278\n",
       "11       168  164.644058  3.355942\n",
       "12       162  166.639227 -4.639227\n",
       "13       171  168.634395  2.365605\n",
       "14       175  174.619901  0.380099\n",
       "15       182  176.615069  5.384931\n",
       "16       180  180.605406 -0.605406\n",
       "17       183  186.590912 -3.590912\n",
       "18       188  190.581249 -2.581249\n",
       "19       200  196.566754  3.433246\n",
       "20       194  202.552259 -8.552259\n",
       "21       206  204.547428  1.452572\n",
       "22       207  206.542596  0.457404\n",
       "23       210  210.532933 -0.532933\n",
       "24       219  216.518439  2.481561"
      ]
     },
     "execution_count": 63,
     "metadata": {},
     "output_type": "execute_result"
    }
   ],
   "source": [
    "df = pd.DataFrame(list(zip(Y,fitted_values,residual)), columns=['Actual Y','Fitted Y','Residual'])\n",
    "df"
   ]
  },
  {
   "cell_type": "markdown",
   "id": "65298875",
   "metadata": {},
   "source": [
    "## Calculate R^2"
   ]
  },
  {
   "cell_type": "code",
   "execution_count": 64,
   "id": "42260702",
   "metadata": {},
   "outputs": [
    {
     "name": "stdout",
     "output_type": "stream",
     "text": [
      "Coefficient of Determination: 0.9838278294506653\n"
     ]
    }
   ],
   "source": [
    "cov_xy_new = pow(calCov(X,Y),2)\n",
    "var_x_new = calVar(X)\n",
    "var_y_new = calVar(Y)\n",
    "r_2 = cov_xy_new / (var_x_new * var_y_new)\n",
    "print(\"Coefficient of Determination:\",r_2)"
   ]
  }
 ],
 "metadata": {
  "kernelspec": {
   "display_name": "Python 3",
   "language": "python",
   "name": "python3"
  },
  "language_info": {
   "codemirror_mode": {
    "name": "ipython",
    "version": 3
   },
   "file_extension": ".py",
   "mimetype": "text/x-python",
   "name": "python",
   "nbconvert_exporter": "python",
   "pygments_lexer": "ipython3",
   "version": "3.8.8"
  }
 },
 "nbformat": 4,
 "nbformat_minor": 5
}
